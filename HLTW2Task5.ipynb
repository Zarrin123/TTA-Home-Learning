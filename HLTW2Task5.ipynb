{
 "cells": [
  {
   "cell_type": "code",
   "execution_count": 51,
   "metadata": {},
   "outputs": [
    {
     "name": "stdout",
     "output_type": "stream",
     "text": [
      "You can choose the operation you want to use\n"
     ]
    }
   ],
   "source": [
    "print(\"You can choose the operation you want to use\")"
   ]
  },
  {
   "cell_type": "code",
   "execution_count": 52,
   "metadata": {},
   "outputs": [
    {
     "name": "stdout",
     "output_type": "stream",
     "text": [
      "Operations Available\n",
      "a if you would like Addition\n",
      "b if you would like Subtraction\n",
      "c if you would like Division\n",
      "d If you would like Multiplication\n",
      "e if you would like Square of\n"
     ]
    }
   ],
   "source": [
    "print (\"Operations Available\")\n",
    "print (\"a if you would like Addition\")\n",
    "print (\"b if you would like Subtraction\")\n",
    "print (\"c if you would like Division\")\n",
    "print (\"d If you would like Multiplication\")\n",
    "print (\"e if you would like Square of\")\n"
   ]
  },
  {
   "cell_type": "code",
   "execution_count": 53,
   "metadata": {},
   "outputs": [
    {
     "name": "stdout",
     "output_type": "stream",
     "text": [
      "d\n"
     ]
    }
   ],
   "source": [
    "Operation= input(\"Enter the letter for your chosen Operation\")\n",
    "print(Operation)\n",
    "x= float (input(\"Choose your first number\"))\n",
    "y= float (input(\"Choose your second number\"))"
   ]
  },
  {
   "cell_type": "code",
   "execution_count": 54,
   "metadata": {},
   "outputs": [
    {
     "name": "stdout",
     "output_type": "stream",
     "text": [
      "You have picked multiplication, your answer is 10.0\n"
     ]
    }
   ],
   "source": [
    "if input(Operation)== 'a' :\n",
    "    Print(\"You have picked addition, your answer is\", x + y)\n",
    "elif Operation == 'b':\n",
    "    Print(\"You have picked subtraction, your answer is\", x - y)\n",
    "elif Operation == 'c':\n",
    "    print (\"You have picked division, your answer is\", x/ y)\n",
    "elif Operation == 'd':\n",
    "    print (\"You have picked multiplication, your answer is\", x * y)\n",
    "elif Operation == 'e':\n",
    "    print(\"You have picked Square power, your answer is\", x ** y)"
   ]
  }
 ],
 "metadata": {
  "interpreter": {
   "hash": "aee8b7b246df8f9039afb4144a1f6fd8d2ca17a180786b69acc140d282b71a49"
  },
  "kernelspec": {
   "display_name": "Python 3.10.2 64-bit",
   "language": "python",
   "name": "python3"
  },
  "language_info": {
   "codemirror_mode": {
    "name": "ipython",
    "version": 3
   },
   "file_extension": ".py",
   "mimetype": "text/x-python",
   "name": "python",
   "nbconvert_exporter": "python",
   "pygments_lexer": "ipython3",
   "version": "3.10.2"
  },
  "orig_nbformat": 4
 },
 "nbformat": 4,
 "nbformat_minor": 2
}
