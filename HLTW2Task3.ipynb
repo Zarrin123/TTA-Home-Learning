{
 "cells": [
  {
   "cell_type": "code",
   "execution_count": 10,
   "metadata": {},
   "outputs": [],
   "source": [
    "Starter = input(\"What is your Favourite starter\")\n",
    "Main = input(\"What will you be having for your main\")\n",
    "Dessert= input(\"What would you like for dessert\")\n",
    "Drink= input(\"What drink would you like with that\")"
   ]
  },
  {
   "cell_type": "code",
   "execution_count": 3,
   "metadata": {},
   "outputs": [
    {
     "name": "stdout",
     "output_type": "stream",
     "text": [
      "Hi What would you like to order today\n"
     ]
    }
   ],
   "source": [
    "print (\"Hi What would you like to order today\") #Waiter"
   ]
  },
  {
   "cell_type": "code",
   "execution_count": 14,
   "metadata": {},
   "outputs": [
    {
     "name": "stdout",
     "output_type": "stream",
     "text": [
      "Hi for my starter can i please have Soup followed by Steak and mash and some Cake to finish my dinner\n",
      "And what drink would you like\n",
      "i would like some Water please\n"
     ]
    }
   ],
   "source": [
    "print (\"Hi for my starter can i please have\" , Starter , \"followed by\" , Main , \"and some\", Dessert , \"to finish my dinner\")\n",
    "print(\"And what drink would you like\") #Waiter\n",
    "print (\"i would like some\", Drink ,\"please\")"
   ]
  }
 ],
 "metadata": {
  "interpreter": {
   "hash": "aee8b7b246df8f9039afb4144a1f6fd8d2ca17a180786b69acc140d282b71a49"
  },
  "kernelspec": {
   "display_name": "Python 3.10.2 64-bit",
   "language": "python",
   "name": "python3"
  },
  "language_info": {
   "codemirror_mode": {
    "name": "ipython",
    "version": 3
   },
   "file_extension": ".py",
   "mimetype": "text/x-python",
   "name": "python",
   "nbconvert_exporter": "python",
   "pygments_lexer": "ipython3",
   "version": "3.10.2"
  },
  "orig_nbformat": 4
 },
 "nbformat": 4,
 "nbformat_minor": 2
}
