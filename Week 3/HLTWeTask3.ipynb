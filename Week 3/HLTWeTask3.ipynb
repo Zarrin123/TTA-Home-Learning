{
 "cells": [
  {
   "cell_type": "code",
   "execution_count": 32,
   "metadata": {},
   "outputs": [
    {
     "name": "stdout",
     "output_type": "stream",
     "text": [
      "5\n"
     ]
    }
   ],
   "source": [
    "Operator= input(\"Pick an operator\")\n",
    "Num_1=int(input(\"Pick your first number\"))\n",
    "Num_2=int(input(\"Pick your second number\"))\n",
    "\n",
    "def Calculation (Num_1,Num_2):\n",
    "    if Operator== '+' :\n",
    "        print(Num_1 + Num_2)\n",
    "    elif Operator == '-' :\n",
    "        print(Num_1 - Num_2)\n",
    "    elif Operator == '*' :\n",
    "        print (Num_1* Num_2)\n",
    "    elif Operator == \"/\":\n",
    "        print (Num_1/Num_2)\n",
    "    else:\n",
    "        print(\"You have picked an incorrect Operator\")\n",
    "\n",
    "\n",
    "Calculation(Num_1,Num_2)       "
   ]
  }
 ],
 "metadata": {
  "interpreter": {
   "hash": "aee8b7b246df8f9039afb4144a1f6fd8d2ca17a180786b69acc140d282b71a49"
  },
  "kernelspec": {
   "display_name": "Python 3.10.2 64-bit",
   "language": "python",
   "name": "python3"
  },
  "language_info": {
   "codemirror_mode": {
    "name": "ipython",
    "version": 3
   },
   "file_extension": ".py",
   "mimetype": "text/x-python",
   "name": "python",
   "nbconvert_exporter": "python",
   "pygments_lexer": "ipython3",
   "version": "3.10.2"
  },
  "orig_nbformat": 4
 },
 "nbformat": 4,
 "nbformat_minor": 2
}
