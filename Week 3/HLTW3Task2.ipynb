{
 "cells": [
  {
   "cell_type": "code",
   "execution_count": 39,
   "metadata": {},
   "outputs": [
    {
     "name": "stdout",
     "output_type": "stream",
     "text": [
      "Bike is worth: 2000\n",
      "Bike is worth: 1800.0\n",
      "Bike is worth: 1620.0\n",
      "Bike is worth: 1458.0\n",
      "Bike is worth: 1312.2\n",
      "Bike is worth: 1180.98\n",
      "Bike is worth: 1062.882\n"
     ]
    },
    {
     "data": {
      "text/plain": [
       "1000"
      ]
     },
     "execution_count": 39,
     "metadata": {},
     "output_type": "execute_result"
    }
   ],
   "source": [
    "Bike = 2000\n",
    "Year = 2022\n",
    "\n",
    "def BikeValue (Bike,year):\n",
    "    while Bike >1000:\n",
    "        print(\"Bike is worth:\", Bike)\n",
    "        Bike *=0.9\n",
    "    return 1000\n",
    "\n",
    "BikeValue (Bike,Year)"
   ]
  }
 ],
 "metadata": {
  "interpreter": {
   "hash": "aee8b7b246df8f9039afb4144a1f6fd8d2ca17a180786b69acc140d282b71a49"
  },
  "kernelspec": {
   "display_name": "Python 3.10.2 64-bit",
   "language": "python",
   "name": "python3"
  },
  "language_info": {
   "codemirror_mode": {
    "name": "ipython",
    "version": 3
   },
   "file_extension": ".py",
   "mimetype": "text/x-python",
   "name": "python",
   "nbconvert_exporter": "python",
   "pygments_lexer": "ipython3",
   "version": "3.10.2"
  },
  "orig_nbformat": 4
 },
 "nbformat": 4,
 "nbformat_minor": 2
}
