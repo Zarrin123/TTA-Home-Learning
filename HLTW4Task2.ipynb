{
 "cells": [
  {
   "cell_type": "code",
   "execution_count": 7,
   "metadata": {},
   "outputs": [
    {
     "name": "stdout",
     "output_type": "stream",
     "text": [
      "Failed\n"
     ]
    }
   ],
   "source": [
    "Percentage=int(input(\"What percentage did you Achieve?\"))\n",
    "\n",
    "def mark_grade (Percentage):\n",
    "    if Percentage >=90:\n",
    "        print(\"A\")\n",
    "    elif Percentage >=60:\n",
    "        print(\"B\")\n",
    "    elif Percentage >=50:\n",
    "        print(\"C\")\n",
    "    elif Percentage >=40:\n",
    "         print(\"D\")\n",
    "    else:\n",
    "        print(\"Failed\")\n",
    "\n",
    "mark_grade(Percentage)"
   ]
  },
  {
   "cell_type": "code",
   "execution_count": 17,
   "metadata": {},
   "outputs": [
    {
     "name": "stdout",
     "output_type": "stream",
     "text": [
      "Well done, you are above target\n"
     ]
    }
   ],
   "source": [
    "target_grade=int(input(\"What is you target grade\"))\n",
    "actual_grade=int(input(\"What grade did you achieve?\"))\n",
    "\n",
    "def target (target_grade):\n",
    "    if target_grade < actual_grade:\n",
    "        print(\"Well done, you are above target\")\n",
    "    if target_grade == actual_grade:\n",
    "        print(\"You are on target\")\n",
    "    if target_grade > actual_grade:\n",
    "        print(\"You are below target\")\n",
    "\n",
    "target(target_grade)\n",
    "    "
   ]
  },
  {
   "cell_type": "markdown",
   "metadata": {},
   "source": []
  }
 ],
 "metadata": {
  "interpreter": {
   "hash": "aee8b7b246df8f9039afb4144a1f6fd8d2ca17a180786b69acc140d282b71a49"
  },
  "kernelspec": {
   "display_name": "Python 3.10.2 64-bit",
   "language": "python",
   "name": "python3"
  },
  "language_info": {
   "codemirror_mode": {
    "name": "ipython",
    "version": 3
   },
   "file_extension": ".py",
   "mimetype": "text/x-python",
   "name": "python",
   "nbconvert_exporter": "python",
   "pygments_lexer": "ipython3",
   "version": "3.10.2"
  },
  "orig_nbformat": 4
 },
 "nbformat": 4,
 "nbformat_minor": 2
}
