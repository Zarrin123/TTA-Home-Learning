{
 "cells": [
  {
   "cell_type": "code",
   "execution_count": 28,
   "metadata": {},
   "outputs": [
    {
     "name": "stdout",
     "output_type": "stream",
     "text": [
      "The Motorbike is currently worth: 2000\n",
      "The Motorbike is currently worth: 1800.0\n",
      "The Motorbike is currently worth: 1620.0\n",
      "The Motorbike is currently worth: 1458.0\n",
      "The Motorbike is currently worth: 1312.2\n",
      "The Motorbike is currently worth: 1180.98\n",
      "The Motorbike is currently worth: 1062.882\n"
     ]
    }
   ],
   "source": [
    "Motorbike = 2000\n",
    "\n",
    "while Motorbike >= 1000:\n",
    "    print(\"The Motorbike is currently worth:\", Motorbike,)\n",
    "    Motorbike *=0.90"
   ]
  }
 ],
 "metadata": {
  "interpreter": {
   "hash": "aee8b7b246df8f9039afb4144a1f6fd8d2ca17a180786b69acc140d282b71a49"
  },
  "kernelspec": {
   "display_name": "Python 3.10.2 64-bit",
   "language": "python",
   "name": "python3"
  },
  "language_info": {
   "codemirror_mode": {
    "name": "ipython",
    "version": 3
   },
   "file_extension": ".py",
   "mimetype": "text/x-python",
   "name": "python",
   "nbconvert_exporter": "python",
   "pygments_lexer": "ipython3",
   "version": "3.10.2"
  },
  "orig_nbformat": 4
 },
 "nbformat": 4,
 "nbformat_minor": 2
}
